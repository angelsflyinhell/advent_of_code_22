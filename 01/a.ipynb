{
 "cells": [
  {
   "cell_type": "code",
   "execution_count": 14,
   "metadata": {},
   "outputs": [
    {
     "name": "stdout",
     "output_type": "stream",
     "text": [
      "204639\n"
     ]
    }
   ],
   "source": [
    "elves = []\n",
    "\n",
    "with open('./input.txt') as file:\n",
    "    calories = 0;\n",
    "    for line in file:\n",
    "        if(line == '\\n'):\n",
    "            elves.append(calories)\n",
    "            calories = 0\n",
    "        else:\n",
    "            calories += int(line)\n",
    "\n",
    "topThree = 0;\n",
    "for _ in range(3):\n",
    "    mostIndex = 0\n",
    "    for i in range(len(elves)):\n",
    "        if(elves[i] > elves[mostIndex]):\n",
    "            mostIndex = i\n",
    "\n",
    "    topThree += elves[mostIndex]\n",
    "    elves.pop(mostIndex)\n",
    "\n",
    "print(topThree)"
   ]
  }
 ],
 "metadata": {
  "kernelspec": {
   "display_name": "Python 3.8.3",
   "language": "python",
   "name": "python3"
  },
  "language_info": {
   "codemirror_mode": {
    "name": "ipython",
    "version": 3
   },
   "file_extension": ".py",
   "mimetype": "text/x-python",
   "name": "python",
   "nbconvert_exporter": "python",
   "pygments_lexer": "ipython3",
   "version": "3.8.3"
  },
  "orig_nbformat": 4,
  "vscode": {
   "interpreter": {
    "hash": "53fbf7c3f614b190a3a8ab9fe5ced014bce033c5c585b834d0a8191e3189d357"
   }
  }
 },
 "nbformat": 4,
 "nbformat_minor": 2
}
