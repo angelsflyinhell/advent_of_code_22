{
 "cells": [
  {
   "cell_type": "code",
   "execution_count": null,
   "metadata": {},
   "outputs": [],
   "source": [
    "elves = []\n",
    "\n",
    "with open('./input.txt') as file:\n",
    "    calories = 0;\n",
    "    for line in file:\n",
    "        if(line == '\\n'):\n",
    "            elves.append(calories)\n",
    "            calories = 0\n",
    "        else:\n",
    "            calories += int(line)\n",
    "\n",
    "topThree = 0;\n",
    "for _ in range(3):\n",
    "    mostIndex = 0\n",
    "    for i in range(len(elves)):\n",
    "        if(elves[i] > elves[mostIndex]):\n",
    "            mostIndex = i\n",
    "\n",
    "    topThree += elves[mostIndex]\n",
    "    elves.pop(mostIndex)\n",
    "\n",
    "print(topThree)"
   ]
  }
 ],
 "metadata": {
  "kernelspec": {
   "display_name": "Python 3.9.7 64-bit",
   "language": "python",
   "name": "python3"
  },
  "language_info": {
   "codemirror_mode": {
    "name": "ipython",
    "version": 3
   },
   "file_extension": ".py",
   "mimetype": "text/x-python",
   "name": "python",
   "nbconvert_exporter": "python",
   "pygments_lexer": "ipython3",
   "version": "3.9.7"
  },
  "orig_nbformat": 4,
  "vscode": {
   "interpreter": {
    "hash": "264f3caf308b0ca675d6885ec32134e9c9c20f139c92226eb4e05e8e4911d61d"
   }
  }
 },
 "nbformat": 4,
 "nbformat_minor": 2
}
