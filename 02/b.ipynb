{
 "cells": [
  {
   "cell_type": "code",
   "execution_count": 4,
   "metadata": {},
   "outputs": [
    {
     "data": {
      "text/plain": [
       "12"
      ]
     },
     "execution_count": 4,
     "metadata": {},
     "output_type": "execute_result"
    }
   ],
   "source": [
    "score = 0;\n",
    "\n",
    "lookup = {\n",
    "    \"A\": [2, 1, 3],\n",
    "    \"B\": [3, 2, 1],\n",
    "    \"C\": [1, 3, 2]\n",
    "}\n",
    "\n",
    "with open('./input.txt') as f:\n",
    "    for line in f:\n",
    "        line = line.replace('\\n', '').split(' ')\n",
    "        opponent = line[0]\n",
    "        player = line[1]\n",
    "\n",
    "        if(player == \"Y\"):\n",
    "            score += 3;\n",
    "            score += lookup[opponent][1]\n",
    "        elif (player == \"X\"):\n",
    "            score += 0;\n",
    "            score += lookup[opponent][2]\n",
    "        else:\n",
    "            score += 6;\n",
    "            score += lookup[opponent][0]\n",
    "        \n",
    "\n",
    "score       "
   ]
  }
 ],
 "metadata": {
  "kernelspec": {
   "display_name": "Python 3.9.7 64-bit",
   "language": "python",
   "name": "python3"
  },
  "language_info": {
   "codemirror_mode": {
    "name": "ipython",
    "version": 3
   },
   "file_extension": ".py",
   "mimetype": "text/x-python",
   "name": "python",
   "nbconvert_exporter": "python",
   "pygments_lexer": "ipython3",
   "version": "3.9.7"
  },
  "orig_nbformat": 4,
  "vscode": {
   "interpreter": {
    "hash": "264f3caf308b0ca675d6885ec32134e9c9c20f139c92226eb4e05e8e4911d61d"
   }
  }
 },
 "nbformat": 4,
 "nbformat_minor": 2
}
