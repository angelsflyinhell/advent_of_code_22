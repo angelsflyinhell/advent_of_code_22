{
 "cells": [
  {
   "cell_type": "code",
   "execution_count": 5,
   "metadata": {},
   "outputs": [
    {
     "name": "stdout",
     "output_type": "stream",
     "text": [
      "vJrwpWtwJgWrhcsFMMfFFhFp\n",
      " jqHRNqRjqzjGDLGLrsFMfFZSrLrFZsSL\n",
      " PmmdzqPrVvPwwTWBwg\n",
      "\n",
      "----------------\n",
      "r\n",
      "wMqvLMZHhHMvwLHjbvcjnnSBnvTQFn\n",
      " ttgJtRGJQctTZtZT\n",
      " CrZsJsPPZsGzwwsLwLmpwMDw\n",
      "----------------\n",
      "Z\n",
      "70\n"
     ]
    }
   ],
   "source": [
    "import string as s\n",
    "\n",
    "score = 0\n",
    "with open('./input.txt') as f:\n",
    "    n = 0\n",
    "    \n",
    "    lines = f.readlines()\n",
    "    for _ in lines:\n",
    "        if (n % 3 == 0):\n",
    "            common = ''\n",
    "            for i in s.ascii_letters:\n",
    "                if (i in lines[n+2] and i in lines[n+1] and i in lines[n]):\n",
    "                    common = i\n",
    "                    break\n",
    "\n",
    "            if(common.isupper()):\n",
    "                score += s.ascii_lowercase.find(common.lower()) + 1 + 26\n",
    "            else:\n",
    "                score += s.ascii_lowercase.find(common) + 1\n",
    "        n += 1\n",
    "\n",
    "print(score)   "
   ]
  }
 ],
 "metadata": {
  "kernelspec": {
   "display_name": "Python 3.9.7 64-bit",
   "language": "python",
   "name": "python3"
  },
  "language_info": {
   "codemirror_mode": {
    "name": "ipython",
    "version": 3
   },
   "file_extension": ".py",
   "mimetype": "text/x-python",
   "name": "python",
   "nbconvert_exporter": "python",
   "pygments_lexer": "ipython3",
   "version": "3.9.7"
  },
  "orig_nbformat": 4,
  "vscode": {
   "interpreter": {
    "hash": "264f3caf308b0ca675d6885ec32134e9c9c20f139c92226eb4e05e8e4911d61d"
   }
  }
 },
 "nbformat": 4,
 "nbformat_minor": 2
}
