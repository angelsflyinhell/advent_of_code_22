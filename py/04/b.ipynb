{
 "cells": [
  {
   "cell_type": "code",
   "execution_count": 1,
   "metadata": {},
   "outputs": [
    {
     "name": "stdout",
     "output_type": "stream",
     "text": [
      "836\n"
     ]
    }
   ],
   "source": [
    "score = 0;\n",
    "with open('./input.txt') as f:\n",
    "    for line in f:\n",
    "        ar, al, br, bl = line.strip().replace(',', '-').split('-')\n",
    "        if (int(ar) <= int(bl) and int(al) >= int(br)):\n",
    "            score += 1\n",
    "\n",
    "print(score)"
   ]
  }
 ],
 "metadata": {
  "kernelspec": {
   "display_name": "Python 3.8.3",
   "language": "python",
   "name": "python3"
  },
  "language_info": {
   "codemirror_mode": {
    "name": "ipython",
    "version": 3
   },
   "file_extension": ".py",
   "mimetype": "text/x-python",
   "name": "python",
   "nbconvert_exporter": "python",
   "pygments_lexer": "ipython3",
   "version": "3.8.3"
  },
  "orig_nbformat": 4,
  "vscode": {
   "interpreter": {
    "hash": "53fbf7c3f614b190a3a8ab9fe5ced014bce033c5c585b834d0a8191e3189d357"
   }
  }
 },
 "nbformat": 4,
 "nbformat_minor": 2
}
