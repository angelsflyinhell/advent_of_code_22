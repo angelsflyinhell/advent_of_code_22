{
 "cells": [
  {
   "cell_type": "code",
   "execution_count": 7,
   "metadata": {},
   "outputs": [
    {
     "name": "stdout",
     "output_type": "stream",
     "text": [
      "3579501\n"
     ]
    }
   ],
   "source": [
    "from collections import defaultdict\n",
    "\n",
    "with open('./input.txt') as f:\n",
    "    path = []\n",
    "    dirSizes = defaultdict(int)\n",
    "\n",
    "    for line in f:\n",
    "        tokens = line.strip().split(' ')\n",
    "\n",
    "        if tokens[0] == \"$\" and tokens[1] == 'cd':\n",
    "            if tokens[2] == '/':\n",
    "                path = ['/']\n",
    "            elif tokens[2] == '..':\n",
    "                path.pop()\n",
    "            else:\n",
    "                path.append(tokens[2])\n",
    "        elif tokens[0] == \"$\" and tokens[1] == 'ls':\n",
    "            pass\n",
    "        else:\n",
    "            try:\n",
    "                size = int(tokens[0])\n",
    "                for i in range(0, len(path)):\n",
    "                    dirSizes['/'.join(path[:i+1])] += size\n",
    "            except ValueError:\n",
    "                pass\n",
    "    \n",
    "    required_space = 30000000 - (70000000 - dirSizes['/'])\n",
    "    print(sorted((s for s in dirSizes.values() if s >= required_space))[0])"
   ]
  }
 ],
 "metadata": {
  "kernelspec": {
   "display_name": "Python 3.8.3",
   "language": "python",
   "name": "python3"
  },
  "language_info": {
   "codemirror_mode": {
    "name": "ipython",
    "version": 3
   },
   "file_extension": ".py",
   "mimetype": "text/x-python",
   "name": "python",
   "nbconvert_exporter": "python",
   "pygments_lexer": "ipython3",
   "version": "3.8.3"
  },
  "orig_nbformat": 4,
  "vscode": {
   "interpreter": {
    "hash": "53fbf7c3f614b190a3a8ab9fe5ced014bce033c5c585b834d0a8191e3189d357"
   }
  }
 },
 "nbformat": 4,
 "nbformat_minor": 2
}
