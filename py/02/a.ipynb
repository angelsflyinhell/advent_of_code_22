{
 "cells": [
  {
   "cell_type": "code",
   "execution_count": 14,
   "metadata": {},
   "outputs": [
    {
     "data": {
      "text/plain": [
       "12740"
      ]
     },
     "execution_count": 14,
     "metadata": {},
     "output_type": "execute_result"
    }
   ],
   "source": [
    "score = 0;\n",
    "\n",
    "lookup = {\n",
    "    \"A\": {\n",
    "        \"B\": 6,\n",
    "        \"C\": 0,\n",
    "    },\n",
    "    \"B\": {\n",
    "        \"A\": 0,\n",
    "        \"C\": 6,\n",
    "    },\n",
    "    \"C\": {\n",
    "        \"A\": 6,\n",
    "        \"B\": 0,\n",
    "    },\n",
    "}\n",
    "\n",
    "def default_score(play):\n",
    "    if play == \"A\":\n",
    "        return 1;\n",
    "    elif play == \"B\":\n",
    "        return 2;\n",
    "    elif play == \"C\":\n",
    "        return 3;\n",
    "\n",
    "with open('./input.txt') as f:\n",
    "    for line in f:\n",
    "        line = line.replace('Y', 'B').replace('X', 'A').replace('Z', 'C').replace('\\n', '').split(' ')\n",
    "        opponent = line[0]\n",
    "        player = line[1]\n",
    "\n",
    "        score += default_score(player)\n",
    "\n",
    "        if(opponent == player):\n",
    "            score += 3;\n",
    "        else:\n",
    "            score += lookup[opponent][player]\n",
    "\n",
    "score       "
   ]
  }
 ],
 "metadata": {
  "kernelspec": {
   "display_name": "Python 3.8.10 64-bit",
   "language": "python",
   "name": "python3"
  },
  "language_info": {
   "codemirror_mode": {
    "name": "ipython",
    "version": 3
   },
   "file_extension": ".py",
   "mimetype": "text/x-python",
   "name": "python",
   "nbconvert_exporter": "python",
   "pygments_lexer": "ipython3",
   "version": "3.8.10"
  },
  "orig_nbformat": 4,
  "vscode": {
   "interpreter": {
    "hash": "2790a2beab6d3f3c46ffac89cabd6e1966f65cb94df74713c5da9912b904af31"
   }
  }
 },
 "nbformat": 4,
 "nbformat_minor": 2
}
